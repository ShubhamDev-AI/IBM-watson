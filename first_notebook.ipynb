{
    "cells": [
        {
            "cell_type": "code",
            "execution_count": 1,
            "metadata": {},
            "outputs": [
                {
                    "name": "stdout",
                    "output_type": "stream",
                    "text": "+---------+--------------+---------------+----------+---------+\n|R&D Spend|Administration|Marketing Spend|     State|   Profit|\n+---------+--------------+---------------+----------+---------+\n| 165349.2|      136897.8|       471784.1|  New York|192261.83|\n| 162597.7|     151377.59|      443898.53|California|191792.06|\n|153441.51|     101145.55|      407934.54|   Florida|191050.39|\n|144372.41|     118671.85|      383199.62|  New York|182901.99|\n|142107.34|      91391.77|      366168.42|   Florida|166187.94|\n+---------+--------------+---------------+----------+---------+\nonly showing top 5 rows\n\n"
                },
                {
                    "data": {
                        "text/plain": "configurationName = os_88529c7c3f1d402eb8508fb99ee0219a_configs\ncos = com.ibm.ibmos2spark.CloudObjectStorage@f1dad0b3\nspark = org.apache.spark.sql.SparkSession@762df3a0\ndfData1 = [R&D Spend: double, Administration: double ... 3 more fields]\n"
                    },
                    "metadata": {},
                    "output_type": "display_data"
                },
                {
                    "data": {
                        "text/plain": "getCredentials: ()scala.collection.mutable.HashMap[String,String]\n"
                    },
                    "metadata": {},
                    "output_type": "display_data"
                },
                {
                    "data": {
                        "text/plain": "[R&D Spend: double, Administration: double ... 3 more fields]"
                    },
                    "execution_count": 1,
                    "metadata": {},
                    "output_type": "execute_result"
                }
            ],
            "source": "// The code was removed by Watson Studio for sharing."
        },
        {
            "cell_type": "code",
            "execution_count": null,
            "metadata": {},
            "outputs": [],
            "source": ""
        }
    ],
    "metadata": {
        "kernelspec": {
            "display_name": "Scala 2.11 with Spark",
            "language": "scala",
            "name": "scala"
        },
        "language_info": {
            "codemirror_mode": "text/x-scala",
            "file_extension": ".scala",
            "mimetype": "text/x-scala",
            "name": "scala",
            "pygments_lexer": "scala",
            "version": "2.11.12"
        }
    },
    "nbformat": 4,
    "nbformat_minor": 1
}